{
 "cells": [
  {
   "cell_type": "markdown",
   "id": "6506563a",
   "metadata": {
    "id": "z5WdryXVS4ty",
    "papermill": {
     "duration": 0.014452,
     "end_time": "2023-11-15T18:32:21.888005",
     "exception": false,
     "start_time": "2023-11-15T18:32:21.873553",
     "status": "completed"
    },
    "tags": []
   },
   "source": [
    "# Applied Neural Networks Homework 1\n",
    "Leslie Kerby"
   ]
  },
  {
   "cell_type": "markdown",
   "id": "c5c0477f",
   "metadata": {
    "id": "DHlAQJ1AS-VJ",
    "papermill": {
     "duration": 0.013905,
     "end_time": "2023-11-15T18:32:21.916018",
     "exception": false,
     "start_time": "2023-11-15T18:32:21.902113",
     "status": "completed"
    },
    "tags": []
   },
   "source": [
    "# **MNIST Digits and Keras**</br>\n",
    "Import in the MNIST digits dataset (70,000 images, each 28x28 pixels). Preprocess the data as necessary. The training set should have 60k images and the test set 10k. Also create a validation set within the training set -- using 10% of the training data.\n",
    "\n",
    "**Part 1** </br>\n",
    "Using the Keras Sequential API, create a neural network with two hidden layers of 500 neurons each. Train it for 30 epochs. Graph the accuracy and loss for the training and validation sets. Does your model become overfit? If so, at about what epoch? Re-train your neural network for that number of epochs.\n",
    "\n",
    "Now test your neural network on your testing data. What accuracy do you achieve? Is it about the same as the accuracy on the validation data?\n",
    "\n",
    "Plot several of the misclassified images from your model.\n",
    "\n",
    "**Part 2** </br>\n",
    "Try to improve your model by changing your architecture (try different numbers of neurons per layer, and/or more layers) and report again on accuracies and plot several misclassified images.\n",
    "\n",
    "**Part 3** </br>\n",
    "Which model did best? Discuss."
   ]
  },
  {
   "cell_type": "markdown",
   "id": "5bfc99a5",
   "metadata": {
    "id": "U4onLpM5r4-d",
    "papermill": {
     "duration": 0.013593,
     "end_time": "2023-11-15T18:32:21.943664",
     "exception": false,
     "start_time": "2023-11-15T18:32:21.930071",
     "status": "completed"
    },
    "tags": []
   },
   "source": [
    "# **Answer**\n"
   ]
  },
  {
   "cell_type": "markdown",
   "id": "24601f94",
   "metadata": {
    "id": "q2F4xQW-sOR9",
    "papermill": {
     "duration": 0.013439,
     "end_time": "2023-11-15T18:32:21.970977",
     "exception": false,
     "start_time": "2023-11-15T18:32:21.957538",
     "status": "completed"
    },
    "tags": []
   },
   "source": [
    "### **Part 1**"
   ]
  },
  {
   "cell_type": "code",
   "execution_count": 1,
   "id": "0e495e16",
   "metadata": {
    "execution": {
     "iopub.execute_input": "2023-11-15T18:32:22.001334Z",
     "iopub.status.busy": "2023-11-15T18:32:22.000879Z",
     "iopub.status.idle": "2023-11-15T18:32:40.026103Z",
     "shell.execute_reply": "2023-11-15T18:32:40.024625Z"
    },
    "id": "aMMDsGreT745",
    "papermill": {
     "duration": 18.044866,
     "end_time": "2023-11-15T18:32:40.029894",
     "exception": false,
     "start_time": "2023-11-15T18:32:21.985028",
     "status": "completed"
    },
    "tags": []
   },
   "outputs": [],
   "source": [
    "import tensorflow as tf\n",
    "from tensorflow import keras\n",
    "import pandas as pd\n",
    "import numpy as np\n",
    "\n",
    "import matplotlib.pyplot as plt\n",
    "import matplotlib.image as mpimg\n",
    "import seaborn as sns\n",
    "%matplotlib inline\n",
    "\n",
    "np.random.seed(2)\n",
    "\n",
    "from sklearn.model_selection import train_test_split\n",
    "from sklearn.metrics import confusion_matrix\n",
    "import itertools\n",
    "\n",
    "from keras.utils import to_categorical # convert to one-hot-encoding\n",
    "from keras.models import Sequential\n",
    "from keras.layers import Dense, Dropout, Flatten, Conv2D, MaxPool2D\n",
    "from keras.optimizers import RMSprop\n",
    "from keras.preprocessing.image import ImageDataGenerator\n",
    "from keras.callbacks import ReduceLROnPlateau\n",
    "\n",
    "np.random.seed(36)\n",
    "tf.random.set_seed(36)"
   ]
  },
  {
   "cell_type": "code",
   "execution_count": 2,
   "id": "63a643d0",
   "metadata": {
    "execution": {
     "iopub.execute_input": "2023-11-15T18:32:40.062140Z",
     "iopub.status.busy": "2023-11-15T18:32:40.060568Z",
     "iopub.status.idle": "2023-11-15T18:32:47.597648Z",
     "shell.execute_reply": "2023-11-15T18:32:47.596278Z"
    },
    "id": "lGiUXNPD4_tm",
    "papermill": {
     "duration": 7.556256,
     "end_time": "2023-11-15T18:32:47.600862",
     "exception": false,
     "start_time": "2023-11-15T18:32:40.044606",
     "status": "completed"
    },
    "tags": []
   },
   "outputs": [],
   "source": [
    "# Load the data\n",
    "train = pd.read_csv(\"/kaggle/input/digit-recognizer/train.csv\")\n",
    "test = pd.read_csv(\"/kaggle/input/digit-recognizer/test.csv\")"
   ]
  },
  {
   "cell_type": "code",
   "execution_count": 3,
   "id": "cc222ebb",
   "metadata": {
    "execution": {
     "iopub.execute_input": "2023-11-15T18:32:47.630850Z",
     "iopub.status.busy": "2023-11-15T18:32:47.630353Z",
     "iopub.status.idle": "2023-11-15T18:32:47.823506Z",
     "shell.execute_reply": "2023-11-15T18:32:47.822032Z"
    },
    "id": "fG0eZMpm5A2b",
    "papermill": {
     "duration": 0.211613,
     "end_time": "2023-11-15T18:32:47.826507",
     "exception": false,
     "start_time": "2023-11-15T18:32:47.614894",
     "status": "completed"
    },
    "tags": []
   },
   "outputs": [],
   "source": [
    "Y_train = train[\"label\"]\n",
    "\n",
    "# Drop 'label' column\n",
    "X_train = train.drop(labels = [\"label\"],axis = 1)\n",
    "\n",
    "# free some space\n",
    "del train"
   ]
  },
  {
   "cell_type": "code",
   "execution_count": 4,
   "id": "c0aabb1a",
   "metadata": {
    "execution": {
     "iopub.execute_input": "2023-11-15T18:32:47.857242Z",
     "iopub.status.busy": "2023-11-15T18:32:47.856762Z",
     "iopub.status.idle": "2023-11-15T18:32:47.886394Z",
     "shell.execute_reply": "2023-11-15T18:32:47.885125Z"
    },
    "id": "qJaG9Vt-5IRz",
    "outputId": "434feae3-2bf6-49c7-b140-383f07f337cb",
    "papermill": {
     "duration": 0.048411,
     "end_time": "2023-11-15T18:32:47.889279",
     "exception": false,
     "start_time": "2023-11-15T18:32:47.840868",
     "status": "completed"
    },
    "tags": []
   },
   "outputs": [
    {
     "data": {
      "text/plain": [
       "count       784\n",
       "unique        1\n",
       "top       False\n",
       "freq        784\n",
       "dtype: object"
      ]
     },
     "execution_count": 4,
     "metadata": {},
     "output_type": "execute_result"
    }
   ],
   "source": [
    "# Check the data\n",
    "X_train.isnull().any().describe()"
   ]
  },
  {
   "cell_type": "code",
   "execution_count": 5,
   "id": "b48bdaf9",
   "metadata": {
    "execution": {
     "iopub.execute_input": "2023-11-15T18:32:47.920892Z",
     "iopub.status.busy": "2023-11-15T18:32:47.920461Z",
     "iopub.status.idle": "2023-11-15T18:32:47.940063Z",
     "shell.execute_reply": "2023-11-15T18:32:47.938768Z"
    },
    "id": "xFUZebKN8ZaE",
    "outputId": "3987ea1c-d0f9-48b7-8f8a-100edb9fc8e5",
    "papermill": {
     "duration": 0.038437,
     "end_time": "2023-11-15T18:32:47.942787",
     "exception": false,
     "start_time": "2023-11-15T18:32:47.904350",
     "status": "completed"
    },
    "tags": []
   },
   "outputs": [
    {
     "data": {
      "text/plain": [
       "count       784\n",
       "unique        1\n",
       "top       False\n",
       "freq        784\n",
       "dtype: object"
      ]
     },
     "execution_count": 5,
     "metadata": {},
     "output_type": "execute_result"
    }
   ],
   "source": [
    "test.isnull().any().describe()"
   ]
  },
  {
   "cell_type": "code",
   "execution_count": 6,
   "id": "0c058535",
   "metadata": {
    "execution": {
     "iopub.execute_input": "2023-11-15T18:32:47.974475Z",
     "iopub.status.busy": "2023-11-15T18:32:47.973705Z",
     "iopub.status.idle": "2023-11-15T18:32:48.132576Z",
     "shell.execute_reply": "2023-11-15T18:32:48.131563Z"
    },
    "id": "K2EK9t4n8bKa",
    "papermill": {
     "duration": 0.177765,
     "end_time": "2023-11-15T18:32:48.135264",
     "exception": false,
     "start_time": "2023-11-15T18:32:47.957499",
     "status": "completed"
    },
    "tags": []
   },
   "outputs": [],
   "source": [
    "# Normalize the data\n",
    "X_train = X_train / 255.0\n",
    "test = test / 255.0"
   ]
  },
  {
   "cell_type": "code",
   "execution_count": 7,
   "id": "dbe0001a",
   "metadata": {
    "execution": {
     "iopub.execute_input": "2023-11-15T18:32:48.166281Z",
     "iopub.status.busy": "2023-11-15T18:32:48.165439Z",
     "iopub.status.idle": "2023-11-15T18:32:48.170860Z",
     "shell.execute_reply": "2023-11-15T18:32:48.169948Z"
    },
    "id": "ziU2aBSX8nLy",
    "papermill": {
     "duration": 0.023798,
     "end_time": "2023-11-15T18:32:48.173373",
     "exception": false,
     "start_time": "2023-11-15T18:32:48.149575",
     "status": "completed"
    },
    "tags": []
   },
   "outputs": [],
   "source": [
    "# Reshape image in 3 dimensions (height = 28px, width = 28px , canal = 1)\n",
    "X_train = X_train.values.reshape(-1,28,28,1)\n",
    "test = test.values.reshape(-1,28,28,1)"
   ]
  },
  {
   "cell_type": "code",
   "execution_count": 8,
   "id": "ad393ec6",
   "metadata": {
    "execution": {
     "iopub.execute_input": "2023-11-15T18:32:48.204873Z",
     "iopub.status.busy": "2023-11-15T18:32:48.204033Z",
     "iopub.status.idle": "2023-11-15T18:32:48.210478Z",
     "shell.execute_reply": "2023-11-15T18:32:48.209615Z"
    },
    "papermill": {
     "duration": 0.024597,
     "end_time": "2023-11-15T18:32:48.212823",
     "exception": false,
     "start_time": "2023-11-15T18:32:48.188226",
     "status": "completed"
    },
    "tags": []
   },
   "outputs": [
    {
     "data": {
      "text/plain": [
       "(42000, 28, 28, 1)"
      ]
     },
     "execution_count": 8,
     "metadata": {},
     "output_type": "execute_result"
    }
   ],
   "source": [
    "np.shape(X_train)"
   ]
  },
  {
   "cell_type": "code",
   "execution_count": 9,
   "id": "67ad54a3",
   "metadata": {
    "execution": {
     "iopub.execute_input": "2023-11-15T18:32:48.244776Z",
     "iopub.status.busy": "2023-11-15T18:32:48.243936Z",
     "iopub.status.idle": "2023-11-15T18:32:48.250924Z",
     "shell.execute_reply": "2023-11-15T18:32:48.249975Z"
    },
    "id": "_npxkICn8wf3",
    "papermill": {
     "duration": 0.025576,
     "end_time": "2023-11-15T18:32:48.253558",
     "exception": false,
     "start_time": "2023-11-15T18:32:48.227982",
     "status": "completed"
    },
    "tags": []
   },
   "outputs": [],
   "source": [
    "# Encode labels to one hot vectors (ex : 2 -> [0,0,1,0,0,0,0,0,0,0])\n",
    "Y_train = to_categorical(Y_train, num_classes = 10)"
   ]
  },
  {
   "cell_type": "code",
   "execution_count": 10,
   "id": "e0bad714",
   "metadata": {
    "execution": {
     "iopub.execute_input": "2023-11-15T18:32:48.285049Z",
     "iopub.status.busy": "2023-11-15T18:32:48.284242Z",
     "iopub.status.idle": "2023-11-15T18:32:48.935721Z",
     "shell.execute_reply": "2023-11-15T18:32:48.934644Z"
    },
    "id": "VwnN20ZT81AU",
    "papermill": {
     "duration": 0.67039,
     "end_time": "2023-11-15T18:32:48.938733",
     "exception": false,
     "start_time": "2023-11-15T18:32:48.268343",
     "status": "completed"
    },
    "tags": []
   },
   "outputs": [],
   "source": [
    "# Split the train and the validation set for the fitting\n",
    "X_train, X_val, Y_train, Y_val = train_test_split(X_train, Y_train, test_size = 0.1, random_state=42)"
   ]
  },
  {
   "cell_type": "code",
   "execution_count": 11,
   "id": "23f0c08f",
   "metadata": {
    "execution": {
     "iopub.execute_input": "2023-11-15T18:32:48.971058Z",
     "iopub.status.busy": "2023-11-15T18:32:48.970225Z",
     "iopub.status.idle": "2023-11-15T18:32:49.301937Z",
     "shell.execute_reply": "2023-11-15T18:32:49.300201Z"
    },
    "id": "hqOv7RoJ856c",
    "outputId": "c8b9ae2f-8f93-49cb-bc1e-d5c7e1a22cb9",
    "papermill": {
     "duration": 0.35078,
     "end_time": "2023-11-15T18:32:49.304816",
     "exception": false,
     "start_time": "2023-11-15T18:32:48.954036",
     "status": "completed"
    },
    "tags": []
   },
   "outputs": [
    {
     "data": {
      "image/png": "[encoded data removed]",
      "text/plain": [
       "<Figure size 640x480 with 1 Axes>"
      ]
     },
     "metadata": {},
     "output_type": "display_data"
    }
   ],
   "source": [
    "# Some examples\n",
    "g = plt.imshow(X_train[0][:,:,0], cmap='binary')"
   ]
  },
  {
   "cell_type": "code",
   "execution_count": 12,
   "id": "9e2dc528",
   "metadata": {
    "execution": {
     "iopub.execute_input": "2023-11-15T18:32:49.336409Z",
     "iopub.status.busy": "2023-11-15T18:32:49.335893Z",
     "iopub.status.idle": "2023-11-15T18:32:49.618597Z",
     "shell.execute_reply": "2023-11-15T18:32:49.617455Z"
    },
    "id": "evJt8Ye25E3k",
    "papermill": {
     "duration": 0.301609,
     "end_time": "2023-11-15T18:32:49.621261",
     "exception": false,
     "start_time": "2023-11-15T18:32:49.319652",
     "status": "completed"
    },
    "tags": []
   },
   "outputs": [],
   "source": [
    "from keras.models import Sequential\n",
    "from keras.layers import Dense, Conv2D, Flatten, MaxPooling2D, Dropout\n",
    "\n",
    "# Create the model\n",
    "model = Sequential()\n",
    "\n",
    "# Add model layers\n",
    "model.add(Conv2D(64, kernel_size=3, activation='relu', input_shape=(28,28,1)))\n",
    "model.add(MaxPooling2D(pool_size=(2, 2)))\n",
    "model.add(Dropout(0.25))\n",
    "\n",
    "model.add(Conv2D(32, kernel_size=3, activation='relu'))\n",
    "model.add(MaxPooling2D(pool_size=(2, 2)))\n",
    "model.add(Dropout(0.25))\n",
    "\n",
    "model.add(Flatten())\n",
    "model.add(Dense(128, activation='relu'))\n",
    "model.add(Dropout(0.5))\n",
    "model.add(Dense(10, activation='softmax')) # 10 for the number of classes\n",
    "\n",
    "# Compile the model\n",
    "model.compile(optimizer='adam', loss='sparse_categorical_crossentropy', metrics=['accuracy'])"
   ]
  },
  {
   "cell_type": "code",
   "execution_count": 13,
   "id": "5375b505",
   "metadata": {
    "execution": {
     "iopub.execute_input": "2023-11-15T18:32:49.655247Z",
     "iopub.status.busy": "2023-11-15T18:32:49.654609Z",
     "iopub.status.idle": "2023-11-15T18:32:49.662711Z",
     "shell.execute_reply": "2023-11-15T18:32:49.661294Z"
    },
    "papermill": {
     "duration": 0.029484,
     "end_time": "2023-11-15T18:32:49.666326",
     "exception": false,
     "start_time": "2023-11-15T18:32:49.636842",
     "status": "completed"
    },
    "tags": []
   },
   "outputs": [
    {
     "name": "stdout",
     "output_type": "stream",
     "text": [
      "(37800, 28, 28, 1)\n",
      "(37800, 10)\n",
      "(4200, 28, 28, 1)\n",
      "(4200, 10)\n"
     ]
    }
   ],
   "source": [
    "print(np.shape(X_train))\n",
    "print(np.shape(Y_train))\n",
    "print(np.shape(X_val))\n",
    "\n",
    "print(np.shape(Y_val))"
   ]
  },
  {
   "cell_type": "code",
   "execution_count": 14,
   "id": "f5348db2",
   "metadata": {
    "execution": {
     "iopub.execute_input": "2023-11-15T18:32:49.698421Z",
     "iopub.status.busy": "2023-11-15T18:32:49.698001Z",
     "iopub.status.idle": "2023-11-15T18:32:51.308079Z",
     "shell.execute_reply": "2023-11-15T18:32:51.306286Z"
    },
    "id": "XrS-y0MtCvmW",
    "outputId": "a6d39666-3915-4027-b579-1c1771ce9809",
    "papermill": {
     "duration": 1.628352,
     "end_time": "2023-11-15T18:32:51.310100",
     "exception": true,
     "start_time": "2023-11-15T18:32:49.681748",
     "status": "failed"
    },
    "tags": []
   },
   "outputs": [
    {
     "name": "stdout",
     "output_type": "stream",
     "text": [
      "Epoch 1/30\n"
     ]
    },
    {
     "ename": "ValueError",
     "evalue": "in user code:\n\n    File \"/opt/conda/lib/python3.10/site-packages/keras/src/engine/training.py\", line 1338, in train_function  *\n        return step_function(self, iterator)\n    File \"/opt/conda/lib/python3.10/site-packages/keras/src/engine/training.py\", line 1322, in step_function  **\n        outputs = model.distribute_strategy.run(run_step, args=(data,))\n    File \"/opt/conda/lib/python3.10/site-packages/keras/src/engine/training.py\", line 1303, in run_step  **\n        outputs = model.train_step(data)\n    File \"/opt/conda/lib/python3.10/site-packages/keras/src/engine/training.py\", line 1081, in train_step\n        loss = self.compute_loss(x, y, y_pred, sample_weight)\n    File \"/opt/conda/lib/python3.10/site-packages/keras/src/engine/training.py\", line 1139, in compute_loss\n        return self.compiled_loss(\n    File \"/opt/conda/lib/python3.10/site-packages/keras/src/engine/compile_utils.py\", line 265, in __call__\n        loss_value = loss_obj(y_t, y_p, sample_weight=sw)\n    File \"/opt/conda/lib/python3.10/site-packages/keras/src/losses.py\", line 142, in __call__\n        losses = call_fn(y_true, y_pred)\n    File \"/opt/conda/lib/python3.10/site-packages/keras/src/losses.py\", line 268, in call  **\n        return ag_fn(y_true, y_pred, **self._fn_kwargs)\n    File \"/opt/conda/lib/python3.10/site-packages/keras/src/losses.py\", line 2354, in sparse_categorical_crossentropy\n        return backend.sparse_categorical_crossentropy(\n    File \"/opt/conda/lib/python3.10/site-packages/keras/src/backend.py\", line 5762, in sparse_categorical_crossentropy\n        res = tf.nn.sparse_softmax_cross_entropy_with_logits(\n\n    ValueError: `labels.shape` must equal `logits.shape` except for the last dimension. Received: labels.shape=(280,) and logits.shape=(28, 10)\n",
     "output_type": "error",
     "traceback": [
      "\u001b[0;31m---------------------------------------------------------------------------\u001b[0m",
      "\u001b[0;31mValueError\u001b[0m                                Traceback (most recent call last)",
      "Cell \u001b[0;32mIn[14], line 1\u001b[0m\n\u001b[0;32m----> 1\u001b[0m history \u001b[38;5;241m=\u001b[39m \u001b[43mmodel\u001b[49m\u001b[38;5;241;43m.\u001b[39;49m\u001b[43mfit\u001b[49m\u001b[43m(\u001b[49m\u001b[43mX_train\u001b[49m\u001b[43m,\u001b[49m\u001b[43m \u001b[49m\u001b[43mY_train\u001b[49m\u001b[43m,\u001b[49m\u001b[43m \u001b[49m\u001b[43mepochs\u001b[49m\u001b[38;5;241;43m=\u001b[39;49m\u001b[38;5;241;43m30\u001b[39;49m\u001b[43m,\u001b[49m\u001b[43m \u001b[49m\u001b[43mbatch_size\u001b[49m\u001b[38;5;241;43m=\u001b[39;49m\u001b[38;5;241;43m28\u001b[39;49m\u001b[43m,\u001b[49m\n\u001b[1;32m      2\u001b[0m \u001b[43m                    \u001b[49m\u001b[43mvalidation_data\u001b[49m\u001b[38;5;241;43m=\u001b[39;49m\u001b[43m(\u001b[49m\u001b[43mX_val\u001b[49m\u001b[43m,\u001b[49m\u001b[43m \u001b[49m\u001b[43mY_val\u001b[49m\u001b[43m)\u001b[49m\u001b[43m)\u001b[49m\n",
      "File \u001b[0;32m/opt/conda/lib/python3.10/site-packages/keras/src/utils/traceback_utils.py:70\u001b[0m, in \u001b[0;36mfilter_traceback.<locals>.error_handler\u001b[0;34m(*args, **kwargs)\u001b[0m\n\u001b[1;32m     67\u001b[0m     filtered_tb \u001b[38;5;241m=\u001b[39m _process_traceback_frames(e\u001b[38;5;241m.\u001b[39m__traceback__)\n\u001b[1;32m     68\u001b[0m     \u001b[38;5;66;03m# To get the full stack trace, call:\u001b[39;00m\n\u001b[1;32m     69\u001b[0m     \u001b[38;5;66;03m# `tf.debugging.disable_traceback_filtering()`\u001b[39;00m\n\u001b[0;32m---> 70\u001b[0m     \u001b[38;5;28;01mraise\u001b[39;00m e\u001b[38;5;241m.\u001b[39mwith_traceback(filtered_tb) \u001b[38;5;28;01mfrom\u001b[39;00m \u001b[38;5;28;01mNone\u001b[39;00m\n\u001b[1;32m     71\u001b[0m \u001b[38;5;28;01mfinally\u001b[39;00m:\n\u001b[1;32m     72\u001b[0m     \u001b[38;5;28;01mdel\u001b[39;00m filtered_tb\n",
      "File \u001b[0;32m/tmp/__autograph_generated_filetvw_5s43.py:15\u001b[0m, in \u001b[0;36mouter_factory.<locals>.inner_factory.<locals>.tf__train_function\u001b[0;34m(iterator)\u001b[0m\n\u001b[1;32m     13\u001b[0m \u001b[38;5;28;01mtry\u001b[39;00m:\n\u001b[1;32m     14\u001b[0m     do_return \u001b[38;5;241m=\u001b[39m \u001b[38;5;28;01mTrue\u001b[39;00m\n\u001b[0;32m---> 15\u001b[0m     retval_ \u001b[38;5;241m=\u001b[39m ag__\u001b[38;5;241m.\u001b[39mconverted_call(ag__\u001b[38;5;241m.\u001b[39mld(step_function), (ag__\u001b[38;5;241m.\u001b[39mld(\u001b[38;5;28mself\u001b[39m), ag__\u001b[38;5;241m.\u001b[39mld(iterator)), \u001b[38;5;28;01mNone\u001b[39;00m, fscope)\n\u001b[1;32m     16\u001b[0m \u001b[38;5;28;01mexcept\u001b[39;00m:\n\u001b[1;32m     17\u001b[0m     do_return \u001b[38;5;241m=\u001b[39m \u001b[38;5;28;01mFalse\u001b[39;00m\n",
      "\u001b[0;31mValueError\u001b[0m: in user code:\n\n    File \"/opt/conda/lib/python3.10/site-packages/keras/src/engine/training.py\", line 1338, in train_function  *\n        return step_function(self, iterator)\n    File \"/opt/conda/lib/python3.10/site-packages/keras/src/engine/training.py\", line 1322, in step_function  **\n        outputs = model.distribute_strategy.run(run_step, args=(data,))\n    File \"/opt/conda/lib/python3.10/site-packages/keras/src/engine/training.py\", line 1303, in run_step  **\n        outputs = model.train_step(data)\n    File \"/opt/conda/lib/python3.10/site-packages/keras/src/engine/training.py\", line 1081, in train_step\n        loss = self.compute_loss(x, y, y_pred, sample_weight)\n    File \"/opt/conda/lib/python3.10/site-packages/keras/src/engine/training.py\", line 1139, in compute_loss\n        return self.compiled_loss(\n    File \"/opt/conda/lib/python3.10/site-packages/keras/src/engine/compile_utils.py\", line 265, in __call__\n        loss_value = loss_obj(y_t, y_p, sample_weight=sw)\n    File \"/opt/conda/lib/python3.10/site-packages/keras/src/losses.py\", line 142, in __call__\n        losses = call_fn(y_true, y_pred)\n    File \"/opt/conda/lib/python3.10/site-packages/keras/src/losses.py\", line 268, in call  **\n        return ag_fn(y_true, y_pred, **self._fn_kwargs)\n    File \"/opt/conda/lib/python3.10/site-packages/keras/src/losses.py\", line 2354, in sparse_categorical_crossentropy\n        return backend.sparse_categorical_crossentropy(\n    File \"/opt/conda/lib/python3.10/site-packages/keras/src/backend.py\", line 5762, in sparse_categorical_crossentropy\n        res = tf.nn.sparse_softmax_cross_entropy_with_logits(\n\n    ValueError: `labels.shape` must equal `logits.shape` except for the last dimension. Received: labels.shape=(280,) and logits.shape=(28, 10)\n"
     ]
    }
   ],
   "source": [
    "history = model.fit(X_train, Y_train, epochs=30, batch_size=28,\n",
    "                    validation_data=(X_val, Y_val))"
   ]
  },
  {
   "cell_type": "code",
   "execution_count": null,
   "id": "e876e2fe",
   "metadata": {
    "execution": {
     "iopub.status.busy": "2023-11-14T23:18:14.798259Z",
     "iopub.status.idle": "2023-11-14T23:18:14.798588Z",
     "shell.execute_reply": "2023-11-14T23:18:14.798451Z",
     "shell.execute_reply.started": "2023-11-14T23:18:14.798435Z"
    },
    "id": "vJeHQm2nlSzS",
    "outputId": "9a6a4099-39fa-4bfc-9005-1c4ce3c18f6f",
    "papermill": {
     "duration": null,
     "end_time": null,
     "exception": null,
     "start_time": null,
     "status": "pending"
    },
    "tags": []
   },
   "outputs": [],
   "source": [
    "y_train_full[0]"
   ]
  },
  {
   "cell_type": "code",
   "execution_count": null,
   "id": "1c3beeff",
   "metadata": {
    "execution": {
     "iopub.status.busy": "2023-11-14T23:18:14.800564Z",
     "iopub.status.idle": "2023-11-14T23:18:14.801202Z",
     "shell.execute_reply": "2023-11-14T23:18:14.801013Z",
     "shell.execute_reply.started": "2023-11-14T23:18:14.800993Z"
    },
    "id": "5_-S9vKgXQZo",
    "papermill": {
     "duration": null,
     "end_time": null,
     "exception": null,
     "start_time": null,
     "status": "pending"
    },
    "tags": []
   },
   "outputs": [],
   "source": [
    "X_train_full = X_train_full/255\n",
    "X_test = X_test/255"
   ]
  },
  {
   "cell_type": "code",
   "execution_count": null,
   "id": "d600aecd",
   "metadata": {
    "execution": {
     "iopub.status.busy": "2023-11-14T23:18:14.802563Z",
     "iopub.status.idle": "2023-11-14T23:18:14.803188Z",
     "shell.execute_reply": "2023-11-14T23:18:14.803001Z",
     "shell.execute_reply.started": "2023-11-14T23:18:14.802981Z"
    },
    "id": "0AUNQe9fXQcq",
    "papermill": {
     "duration": null,
     "end_time": null,
     "exception": null,
     "start_time": null,
     "status": "pending"
    },
    "tags": []
   },
   "outputs": [],
   "source": [
    "X_train_full = X_train_full.reshape(-1, 784)\n",
    "X_test = X_test.reshape(-1, 784)"
   ]
  },
  {
   "cell_type": "code",
   "execution_count": null,
   "id": "bf95553b",
   "metadata": {
    "execution": {
     "iopub.status.busy": "2023-11-14T23:18:14.804118Z",
     "iopub.status.idle": "2023-11-14T23:18:14.805227Z",
     "shell.execute_reply": "2023-11-14T23:18:14.805021Z",
     "shell.execute_reply.started": "2023-11-14T23:18:14.805000Z"
    },
    "id": "rzl4GW7VXQf0",
    "papermill": {
     "duration": null,
     "end_time": null,
     "exception": null,
     "start_time": null,
     "status": "pending"
    },
    "tags": []
   },
   "outputs": [],
   "source": [
    "from sklearn.model_selection import train_test_split\n",
    "X_train_tr, X_train_v, y_train_tr, y_train_v = train_test_split(X_train_full,\n",
    "                                                                y_train_full,\n",
    "                                                                test_size=6000)"
   ]
  },
  {
   "cell_type": "code",
   "execution_count": null,
   "id": "59521feb",
   "metadata": {
    "execution": {
     "iopub.status.busy": "2023-11-14T23:18:14.806345Z",
     "iopub.status.idle": "2023-11-14T23:18:14.806726Z",
     "shell.execute_reply": "2023-11-14T23:18:14.806546Z",
     "shell.execute_reply.started": "2023-11-14T23:18:14.806528Z"
    },
    "id": "Z2mi3Y_vvuaI",
    "papermill": {
     "duration": null,
     "end_time": null,
     "exception": null,
     "start_time": null,
     "status": "pending"
    },
    "tags": []
   },
   "outputs": [],
   "source": [
    "model = keras.models.Sequential()\n",
    "model.add(keras.layers.Dense(500, activation=\"relu\", input_shape=(784,),\n",
    "                             name=\"First_Hidden_Layer\"))\n",
    "model.add(keras.layers.Dense(500, activation=\"relu\", name=\"Second_Hidden_Layer\"))\n",
    "model.add(keras.layers.Dense(10, activation=\"softmax\", name=\"Output_Layer\"))"
   ]
  },
  {
   "cell_type": "code",
   "execution_count": null,
   "id": "1501b34a",
   "metadata": {
    "execution": {
     "iopub.status.busy": "2023-11-14T23:18:14.808789Z",
     "iopub.status.idle": "2023-11-14T23:18:14.809259Z",
     "shell.execute_reply": "2023-11-14T23:18:14.809069Z",
     "shell.execute_reply.started": "2023-11-14T23:18:14.809048Z"
    },
    "id": "EwjHH0OhkgOf",
    "papermill": {
     "duration": null,
     "end_time": null,
     "exception": null,
     "start_time": null,
     "status": "pending"
    },
    "tags": []
   },
   "outputs": [],
   "source": [
    "model.compile(loss=\"sparse_categorical_crossentropy\", optimizer=\"sgd\",\n",
    "              metrics=[\"accuracy\"])"
   ]
  },
  {
   "cell_type": "code",
   "execution_count": null,
   "id": "34549148",
   "metadata": {
    "execution": {
     "iopub.status.busy": "2023-11-14T23:18:14.811160Z",
     "iopub.status.idle": "2023-11-14T23:18:14.811549Z",
     "shell.execute_reply": "2023-11-14T23:18:14.811404Z",
     "shell.execute_reply.started": "2023-11-14T23:18:14.811386Z"
    },
    "id": "25qvU49JV4zR",
    "outputId": "a380de27-1888-4cba-e4be-4767f2ff5dac",
    "papermill": {
     "duration": null,
     "end_time": null,
     "exception": null,
     "start_time": null,
     "status": "pending"
    },
    "tags": []
   },
   "outputs": [],
   "source": [
    "history = model.fit(X_train_tr, y_train_tr, epochs=30, batch_size=32,\n",
    "                    validation_data=(X_train_v, y_train_v))"
   ]
  },
  {
   "cell_type": "code",
   "execution_count": null,
   "id": "846b1bf7",
   "metadata": {
    "execution": {
     "iopub.status.busy": "2023-11-14T23:18:14.813246Z",
     "iopub.status.idle": "2023-11-14T23:18:14.813592Z",
     "shell.execute_reply": "2023-11-14T23:18:14.813451Z",
     "shell.execute_reply.started": "2023-11-14T23:18:14.813437Z"
    },
    "id": "EcjcZQlhZyBD",
    "outputId": "0e556136-d555-4107-df87-ae87943e3b8c",
    "papermill": {
     "duration": null,
     "end_time": null,
     "exception": null,
     "start_time": null,
     "status": "pending"
    },
    "tags": []
   },
   "outputs": [],
   "source": [
    "import pandas as pd\n",
    "pd.DataFrame(history.history).plot(figsize=(10,7))"
   ]
  },
  {
   "cell_type": "markdown",
   "id": "16d39bd9",
   "metadata": {
    "id": "MmwUE0iKoZoZ",
    "papermill": {
     "duration": null,
     "end_time": null,
     "exception": null,
     "start_time": null,
     "status": "pending"
    },
    "tags": []
   },
   "source": [
    "Here, it is evident that the training and validation accuracies have started to stray off after around epoch 5-6. This difference does not exceed 2% even after 30 epochs, so it can't be said that the model performs significantly better on training data than validation data. Thus, it is not yet overfit."
   ]
  },
  {
   "cell_type": "code",
   "execution_count": null,
   "id": "b78ef610",
   "metadata": {
    "execution": {
     "iopub.status.busy": "2023-11-14T23:18:14.814827Z",
     "iopub.status.idle": "2023-11-14T23:18:14.815169Z",
     "shell.execute_reply": "2023-11-14T23:18:14.815023Z",
     "shell.execute_reply.started": "2023-11-14T23:18:14.815009Z"
    },
    "id": "0tY5JtBJbvc7",
    "outputId": "9fcbcaf9-2100-4b65-8c68-58bad9fa71ad",
    "papermill": {
     "duration": null,
     "end_time": null,
     "exception": null,
     "start_time": null,
     "status": "pending"
    },
    "tags": []
   },
   "outputs": [],
   "source": [
    "model.evaluate(X_test, y_test)"
   ]
  },
  {
   "cell_type": "markdown",
   "id": "204cf1fc",
   "metadata": {
    "id": "hruCSpNhvoLy",
    "papermill": {
     "duration": null,
     "end_time": null,
     "exception": null,
     "start_time": null,
     "status": "pending"
    },
    "tags": []
   },
   "source": [
    "This test accuracy score is almost the same as validation accuracy."
   ]
  },
  {
   "cell_type": "code",
   "execution_count": null,
   "id": "32465e0e",
   "metadata": {
    "execution": {
     "iopub.status.busy": "2023-11-14T23:18:14.817259Z",
     "iopub.status.idle": "2023-11-14T23:18:14.817720Z",
     "shell.execute_reply": "2023-11-14T23:18:14.817519Z",
     "shell.execute_reply.started": "2023-11-14T23:18:14.817499Z"
    },
    "id": "cRKk1HnRq9dt",
    "outputId": "3785beb8-233a-4dd7-db67-e986098e4da0",
    "papermill": {
     "duration": null,
     "end_time": null,
     "exception": null,
     "start_time": null,
     "status": "pending"
    },
    "tags": []
   },
   "outputs": [],
   "source": [
    "# Display misclassified images\n",
    "predictions = np.argmax(model.predict(X_test), axis=-1)\n",
    "\n",
    "misclassifiedIndexes = []\n",
    "index = 0\n",
    "for target, predict in zip(y_test, predictions):\n",
    "  if target != predict:\n",
    "    misclassifiedIndexes.append(index)\n",
    "  index += 1\n",
    "\n",
    "misclassifiedIndexes\n",
    "\n",
    "plt.figure(figsize=(20,4))\n",
    "for index in range(5):\n",
    "  plt.subplot(1,5,index+1)\n",
    "  plt.imshow(X_test[misclassifiedIndexes[index]].reshape(28,28), cmap='binary')\n",
    "  plt.axis('off')\n",
    "  plt.title(f'Target: {y_test[misclassifiedIndexes[index]]}    Predicted: {predictions[misclassifiedIndexes[index]]}', fontsize=14)\n",
    "\n",
    "plt.show()"
   ]
  },
  {
   "cell_type": "markdown",
   "id": "7069c9c5",
   "metadata": {
    "id": "2T8MPUQTwnVR",
    "papermill": {
     "duration": null,
     "end_time": null,
     "exception": null,
     "start_time": null,
     "status": "pending"
    },
    "tags": []
   },
   "source": [
    "### **Part 2**"
   ]
  },
  {
   "cell_type": "code",
   "execution_count": null,
   "id": "02383252",
   "metadata": {
    "execution": {
     "iopub.status.busy": "2023-11-14T23:18:14.818700Z",
     "iopub.status.idle": "2023-11-14T23:18:14.819099Z",
     "shell.execute_reply": "2023-11-14T23:18:14.818925Z",
     "shell.execute_reply.started": "2023-11-14T23:18:14.818906Z"
    },
    "id": "orRh_Xx-w3Jj",
    "papermill": {
     "duration": null,
     "end_time": null,
     "exception": null,
     "start_time": null,
     "status": "pending"
    },
    "tags": []
   },
   "outputs": [],
   "source": [
    "#Model with three hidden layers with 300 neurons in the added hidden layer\n",
    "#output layer now has sigmoid activation function\n",
    "\n",
    "model2 = keras.models.Sequential()\n",
    "model2.add(keras.layers.Dense(500, activation=\"relu\", input_shape=(784,),\n",
    "                             name=\"First_Hidden_Layer\"))\n",
    "model2.add(keras.layers.Dense(500, activation=\"relu\", name=\"Second_Hidden_Layer\"))\n",
    "model2.add(keras.layers.Dense(300, activation=\"relu\", name=\"Third_Hidden_Layer\"))\n",
    "model2.add(keras.layers.Dense(10, activation=\"sigmoid\", name=\"Output_Layer\"))"
   ]
  },
  {
   "cell_type": "code",
   "execution_count": null,
   "id": "43d1c91d",
   "metadata": {
    "execution": {
     "iopub.status.busy": "2023-11-14T23:18:14.820351Z",
     "iopub.status.idle": "2023-11-14T23:18:14.820799Z",
     "shell.execute_reply": "2023-11-14T23:18:14.820570Z",
     "shell.execute_reply.started": "2023-11-14T23:18:14.820552Z"
    },
    "id": "lAWHeNDH1XF0",
    "papermill": {
     "duration": null,
     "end_time": null,
     "exception": null,
     "start_time": null,
     "status": "pending"
    },
    "tags": []
   },
   "outputs": [],
   "source": [
    "model2.compile(loss=\"sparse_categorical_crossentropy\", optimizer=\"sgd\",\n",
    "              metrics=[\"accuracy\"])"
   ]
  },
  {
   "cell_type": "code",
   "execution_count": null,
   "id": "03bb84d3",
   "metadata": {
    "execution": {
     "iopub.status.busy": "2023-11-14T23:18:14.822188Z",
     "iopub.status.idle": "2023-11-14T23:18:14.822575Z",
     "shell.execute_reply": "2023-11-14T23:18:14.822402Z",
     "shell.execute_reply.started": "2023-11-14T23:18:14.822384Z"
    },
    "id": "C9QB-Vqx1dKx",
    "outputId": "f3dfc101-6c0c-46ca-8eb7-b8cc7bcc1f3b",
    "papermill": {
     "duration": null,
     "end_time": null,
     "exception": null,
     "start_time": null,
     "status": "pending"
    },
    "tags": []
   },
   "outputs": [],
   "source": [
    "history2 = model2.fit(X_train_tr, y_train_tr, epochs=30, batch_size=32,\n",
    "                    validation_data=(X_train_v, y_train_v))"
   ]
  },
  {
   "cell_type": "code",
   "execution_count": null,
   "id": "c42f987e",
   "metadata": {
    "execution": {
     "iopub.status.busy": "2023-11-14T23:18:14.823650Z",
     "iopub.status.idle": "2023-11-14T23:18:14.824060Z",
     "shell.execute_reply": "2023-11-14T23:18:14.823881Z",
     "shell.execute_reply.started": "2023-11-14T23:18:14.823859Z"
    },
    "id": "P_Gr2q6i2aaP",
    "outputId": "5e7bca2d-01dc-49e6-ef18-afbe69b85ae5",
    "papermill": {
     "duration": null,
     "end_time": null,
     "exception": null,
     "start_time": null,
     "status": "pending"
    },
    "tags": []
   },
   "outputs": [],
   "source": [
    "import pandas as pd\n",
    "pd.DataFrame(history2.history).plot(figsize=(10,7))"
   ]
  },
  {
   "cell_type": "code",
   "execution_count": null,
   "id": "7202fd28",
   "metadata": {
    "execution": {
     "iopub.status.busy": "2023-11-14T23:18:14.826459Z",
     "iopub.status.idle": "2023-11-14T23:18:14.827271Z",
     "shell.execute_reply": "2023-11-14T23:18:14.827126Z",
     "shell.execute_reply.started": "2023-11-14T23:18:14.827111Z"
    },
    "id": "WlM39j22DPuE",
    "outputId": "3fb05a1d-d360-4d8a-fb14-08172f642091",
    "papermill": {
     "duration": null,
     "end_time": null,
     "exception": null,
     "start_time": null,
     "status": "pending"
    },
    "tags": []
   },
   "outputs": [],
   "source": [
    "model2.evaluate(X_test, y_test)"
   ]
  },
  {
   "cell_type": "code",
   "execution_count": null,
   "id": "ad6184e5",
   "metadata": {
    "execution": {
     "iopub.status.busy": "2023-11-14T23:18:14.827938Z",
     "iopub.status.idle": "2023-11-14T23:18:14.828448Z",
     "shell.execute_reply": "2023-11-14T23:18:14.828296Z",
     "shell.execute_reply.started": "2023-11-14T23:18:14.828282Z"
    },
    "id": "iOMCsffsPnea",
    "outputId": "384bde61-b864-46f9-ff31-551c876056aa",
    "papermill": {
     "duration": null,
     "end_time": null,
     "exception": null,
     "start_time": null,
     "status": "pending"
    },
    "tags": []
   },
   "outputs": [],
   "source": [
    "# Display misclassified images\n",
    "predictions = np.argmax(model2.predict(X_test), axis=-1)\n",
    "\n",
    "misclassifiedIndexes = []\n",
    "index = 0\n",
    "for target, predict in zip(y_test, predictions):\n",
    "  if target != predict:\n",
    "    misclassifiedIndexes.append(index)\n",
    "  index += 1\n",
    "\n",
    "misclassifiedIndexes\n",
    "\n",
    "plt.figure(figsize=(20,4))\n",
    "for index in range(5):\n",
    "  plt.subplot(1,5,index+1)\n",
    "  plt.imshow(X_test[misclassifiedIndexes[index]].reshape(28,28), cmap='binary')\n",
    "  plt.axis('off')\n",
    "  plt.title(f'Target: {y_test[misclassifiedIndexes[index]]}    Predicted: {predictions[misclassifiedIndexes[index]]}', fontsize=14)\n",
    "\n",
    "plt.show()"
   ]
  },
  {
   "cell_type": "code",
   "execution_count": null,
   "id": "a0c156a1",
   "metadata": {
    "execution": {
     "iopub.status.busy": "2023-11-14T23:18:14.829709Z",
     "iopub.status.idle": "2023-11-14T23:18:14.830143Z",
     "shell.execute_reply": "2023-11-14T23:18:14.829968Z",
     "shell.execute_reply.started": "2023-11-14T23:18:14.829950Z"
    },
    "id": "oKZQ-HJ2QcrC",
    "papermill": {
     "duration": null,
     "end_time": null,
     "exception": null,
     "start_time": null,
     "status": "pending"
    },
    "tags": []
   },
   "outputs": [],
   "source": [
    "#Model with 4 hidden layers with 400 neurons per layer\n",
    "\n",
    "model3 = keras.models.Sequential()\n",
    "model3.add(keras.layers.Dense(400, activation=\"relu\", input_shape=(784,),\n",
    "                             name=\"First_Hidden_Layer\"))\n",
    "model3.add(keras.layers.Dense(400, activation=\"relu\", name=\"Second_Hidden_Layer\"))\n",
    "model3.add(keras.layers.Dense(400, activation=\"relu\", name=\"Third_Hidden_Layer\"))\n",
    "model3.add(keras.layers.Dense(400, activation=\"relu\", name=\"Fourth_Hidden_Layer\"))\n",
    "model3.add(keras.layers.Dense(10, activation=\"sigmoid\", name=\"Output_Layer\"))"
   ]
  },
  {
   "cell_type": "code",
   "execution_count": null,
   "id": "0bfbc262",
   "metadata": {
    "execution": {
     "iopub.status.busy": "2023-11-14T23:18:14.831576Z",
     "iopub.status.idle": "2023-11-14T23:18:14.831971Z",
     "shell.execute_reply": "2023-11-14T23:18:14.831799Z",
     "shell.execute_reply.started": "2023-11-14T23:18:14.831781Z"
    },
    "id": "H-yTG9AzQ3E1",
    "papermill": {
     "duration": null,
     "end_time": null,
     "exception": null,
     "start_time": null,
     "status": "pending"
    },
    "tags": []
   },
   "outputs": [],
   "source": [
    "model3.compile(loss=\"sparse_categorical_crossentropy\", optimizer=\"sgd\",\n",
    "              metrics=[\"accuracy\"])"
   ]
  },
  {
   "cell_type": "code",
   "execution_count": null,
   "id": "fdf795fe",
   "metadata": {
    "execution": {
     "iopub.status.busy": "2023-11-14T23:18:14.834145Z",
     "iopub.status.idle": "2023-11-14T23:18:14.834555Z",
     "shell.execute_reply": "2023-11-14T23:18:14.834377Z",
     "shell.execute_reply.started": "2023-11-14T23:18:14.834358Z"
    },
    "id": "AIJhOoUsTC0w",
    "outputId": "e3548174-9423-45ea-f0c6-25592335ec8f",
    "papermill": {
     "duration": null,
     "end_time": null,
     "exception": null,
     "start_time": null,
     "status": "pending"
    },
    "tags": []
   },
   "outputs": [],
   "source": [
    "history3 = model3.fit(X_train_tr, y_train_tr, epochs=30, batch_size=32,\n",
    "                    validation_data=(X_train_v, y_train_v))"
   ]
  },
  {
   "cell_type": "code",
   "execution_count": null,
   "id": "b05c7d48",
   "metadata": {
    "execution": {
     "iopub.status.busy": "2023-11-14T23:18:14.835861Z",
     "iopub.status.idle": "2023-11-14T23:18:14.836137Z",
     "shell.execute_reply": "2023-11-14T23:18:14.836015Z",
     "shell.execute_reply.started": "2023-11-14T23:18:14.836002Z"
    },
    "id": "1qeZl2hiUEbk",
    "outputId": "17f353f1-b52a-4f8c-e1a7-8e83c716f40f",
    "papermill": {
     "duration": null,
     "end_time": null,
     "exception": null,
     "start_time": null,
     "status": "pending"
    },
    "tags": []
   },
   "outputs": [],
   "source": [
    "import pandas as pd\n",
    "pd.DataFrame(history3.history).plot(figsize=(10,7))"
   ]
  },
  {
   "cell_type": "code",
   "execution_count": null,
   "id": "408a5dee",
   "metadata": {
    "execution": {
     "iopub.status.busy": "2023-11-14T23:18:14.837300Z",
     "iopub.status.idle": "2023-11-14T23:18:14.837566Z",
     "shell.execute_reply": "2023-11-14T23:18:14.837452Z",
     "shell.execute_reply.started": "2023-11-14T23:18:14.837439Z"
    },
    "id": "qxwp0q3ZU0S0",
    "outputId": "f985abf5-6273-431d-8865-bcdc7fce7ffa",
    "papermill": {
     "duration": null,
     "end_time": null,
     "exception": null,
     "start_time": null,
     "status": "pending"
    },
    "tags": []
   },
   "outputs": [],
   "source": [
    "model3.evaluate(X_test, y_test)"
   ]
  },
  {
   "cell_type": "code",
   "execution_count": null,
   "id": "c2754bfb",
   "metadata": {
    "execution": {
     "iopub.status.busy": "2023-11-14T23:18:14.838831Z",
     "iopub.status.idle": "2023-11-14T23:18:14.839253Z",
     "shell.execute_reply": "2023-11-14T23:18:14.839134Z",
     "shell.execute_reply.started": "2023-11-14T23:18:14.839120Z"
    },
    "id": "k7cNL1mHVFwU",
    "outputId": "de34fca7-8c78-4277-b5c9-cbbaac7a7613",
    "papermill": {
     "duration": null,
     "end_time": null,
     "exception": null,
     "start_time": null,
     "status": "pending"
    },
    "tags": []
   },
   "outputs": [],
   "source": [
    "# Display misclassified images\n",
    "predictions = np.argmax(model3.predict(X_test), axis=-1)\n",
    "\n",
    "misclassifiedIndexes = []\n",
    "index = 0\n",
    "for target, predict in zip(y_test, predictions):\n",
    "  if target != predict:\n",
    "    misclassifiedIndexes.append(index)\n",
    "  index += 1\n",
    "\n",
    "misclassifiedIndexes\n",
    "\n",
    "plt.figure(figsize=(20,4))\n",
    "for index in range(5):\n",
    "  plt.subplot(1,5,index+1)\n",
    "  plt.imshow(X_test[misclassifiedIndexes[index]].reshape(28,28), cmap='binary')\n",
    "  plt.axis('off')\n",
    "  plt.title(f'Target: {y_test[misclassifiedIndexes[index]]}    Predicted: {predictions[misclassifiedIndexes[index]]}', fontsize=14)\n",
    "\n",
    "plt.show()"
   ]
  },
  {
   "cell_type": "markdown",
   "id": "2b9b3c3d",
   "metadata": {
    "id": "FvV3E825WmjC",
    "papermill": {
     "duration": null,
     "end_time": null,
     "exception": null,
     "start_time": null,
     "status": "pending"
    },
    "tags": []
   },
   "source": [
    "### **Part 3**"
   ]
  },
  {
   "cell_type": "markdown",
   "id": "2bfd413f",
   "metadata": {
    "id": "HniGOZEYWz_B",
    "papermill": {
     "duration": null,
     "end_time": null,
     "exception": null,
     "start_time": null,
     "status": "pending"
    },
    "tags": []
   },
   "source": [
    "Even though the models trained to become nearly perfect at the end, it was clear that the two models implemented in part 2 performed much better than the original level because it reached maximum training and validation set accuracies within 16 epochs, where the first model needed 24 epochs to get there. Between the two models implemented later on, the model with three hidden layers performed better as it took significantly less time to train (1 second less per epoch) and the accuracies flattened out almost at the same epoch as the second model. Overall, the addition of the sigmoid activation function in the output layer really made a difference."
   ]
  }
 ],
 "metadata": {
  "accelerator": "GPU",
  "colab": {
   "provenance": []
  },
  "kaggle": {
   "accelerator": "none",
   "dataSources": [
    {
     "databundleVersionId": 861823,
     "sourceId": 3004,
     "sourceType": "competition"
    }
   ],
   "dockerImageVersionId": 30579,
   "isGpuEnabled": false,
   "isInternetEnabled": true,
   "language": "python",
   "sourceType": "notebook"
  },
  "kernelspec": {
   "display_name": "Python 3",
   "language": "python",
   "name": "python3"
  },
  "language_info": {
   "codemirror_mode": {
    "name": "ipython",
    "version": 3
   },
   "file_extension": ".py",
   "mimetype": "text/x-python",
   "name": "python",
   "nbconvert_exporter": "python",
   "pygments_lexer": "ipython3",
   "version": "3.10.12"
  },
  "papermill": {
   "default_parameters": {},
   "duration": 35.63177,
   "end_time": "2023-11-15T18:32:53.823247",
   "environment_variables": {},
   "exception": true,
   "input_path": "__notebook__.ipynb",
   "output_path": "__notebook__.ipynb",
   "parameters": {},
   "start_time": "2023-11-15T18:32:18.191477",
   "version": "2.4.0"
  }
 },
 "nbformat": 4,
 "nbformat_minor": 5
}

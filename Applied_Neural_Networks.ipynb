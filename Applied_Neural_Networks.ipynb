{
  "nbformat": 4,
  "nbformat_minor": 0,
  "metadata": {
    "colab": {
      "private_outputs": true,
      "provenance": []
    },
    "kernelspec": {
      "name": "python3",
      "display_name": "Python 3"
    },
    "language_info": {
      "name": "python"
    }
  },
  "cells": [
    {
      "cell_type": "code",
      "execution_count": null,
      "metadata": {
        "id": "hfoBCWz6npGW"
      },
      "outputs": [],
      "source": [
        "import tensorflow as tf\n",
        "from tensorflow import keras\n",
        "import pandas as pd\n",
        "import numpy as np\n",
        "\n",
        "import matplotlib.pyplot as plt\n",
        "import matplotlib.image as mpimg\n",
        "import seaborn as sns\n",
        "%matplotlib inline\n",
        "\n",
        "np.random.seed(2)\n",
        "\n",
        "from sklearn.model_selection import train_test_split\n",
        "from sklearn.metrics import confusion_matrix\n",
        "import itertools\n",
        "\n",
        "from keras.utils import to_categorical # convert to one-hot-encoding\n",
        "from keras.models import Sequential\n",
        "from keras.layers import Dense, Dropout, Flatten, Conv2D, MaxPool2D\n",
        "from keras.optimizers import RMSprop\n",
        "from keras.preprocessing.image import ImageDataGenerator\n",
        "from keras.callbacks import ReduceLROnPlateau\n",
        "\n",
        "np.random.seed(36)\n",
        "tf.random.set_seed(36)"
      ]
    },
    {
      "cell_type": "code",
      "source": [
        "# Load the data\n",
        "train = pd.read_csv(\"/kaggle/input/digit-recognizer/train.csv\")\n",
        "test = pd.read_csv(\"/kaggle/input/digit-recognizer/test.csv\")"
      ],
      "metadata": {
        "id": "gMIC8NeAn3u-"
      },
      "execution_count": null,
      "outputs": []
    },
    {
      "cell_type": "code",
      "source": [
        "Y_train = train[\"label\"]\n",
        "\n",
        "# Drop 'label' column\n",
        "X_train = train.drop(labels = [\"label\"],axis = 1)\n",
        "\n",
        "# free some space\n",
        "del train"
      ],
      "metadata": {
        "id": "sANOLEsNn5vW"
      },
      "execution_count": null,
      "outputs": []
    },
    {
      "cell_type": "code",
      "source": [
        "# Check the data\n",
        "X_train.isnull().any().describe()"
      ],
      "metadata": {
        "id": "CBF2gGWLn_lb"
      },
      "execution_count": null,
      "outputs": []
    },
    {
      "cell_type": "code",
      "source": [
        "test.isnull().any().describe()\n"
      ],
      "metadata": {
        "id": "AxwF9wUCoAHX"
      },
      "execution_count": null,
      "outputs": []
    },
    {
      "cell_type": "code",
      "source": [
        "# Normalize the data\n",
        "X_train = X_train / 255.0\n",
        "test = test / 255.0"
      ],
      "metadata": {
        "id": "DyxHdK9NoDDH"
      },
      "execution_count": null,
      "outputs": []
    },
    {
      "cell_type": "code",
      "source": [
        "# Reshape image in 3 dimensions (height = 28px, width = 28px , canal = 1)\n",
        "X_train = X_train.values.reshape(-1,28,28,1)\n",
        "test = test.values.reshape(-1,28,28,1)"
      ],
      "metadata": {
        "id": "r-aPzVjMoEUR"
      },
      "execution_count": null,
      "outputs": []
    },
    {
      "cell_type": "code",
      "source": [
        "np.shape(X_train)\n"
      ],
      "metadata": {
        "id": "oPIFXCQ8oFFh"
      },
      "execution_count": null,
      "outputs": []
    },
    {
      "cell_type": "code",
      "source": [
        "# Encode labels to one hot vectors (ex : 2 -> [0,0,1,0,0,0,0,0,0,0])\n",
        "Y_train = to_categorical(Y_train, num_classes = 10)"
      ],
      "metadata": {
        "id": "FCZF-S38oGa9"
      },
      "execution_count": null,
      "outputs": []
    },
    {
      "cell_type": "code",
      "source": [
        "# Split the train and the validation set for the fitting\n",
        "X_train, X_val, Y_train, Y_val = train_test_split(X_train, Y_train, test_size = 0.1, random_state=42)"
      ],
      "metadata": {
        "id": "fABUU6_3oIAz"
      },
      "execution_count": null,
      "outputs": []
    },
    {
      "cell_type": "code",
      "source": [
        "# Some examples\n",
        "g = plt.imshow(X_train[0][:,:,0], cmap='binary')"
      ],
      "metadata": {
        "id": "waC_VBY4oJt7"
      },
      "execution_count": null,
      "outputs": []
    },
    {
      "cell_type": "code",
      "source": [
        "from keras.models import Sequential\n",
        "from keras.layers import Dense, Conv2D, Flatten, MaxPooling2D, Dropout\n",
        "\n",
        "# Create the model\n",
        "model = Sequential()\n",
        "\n",
        "# Add model layers\n",
        "model.add(Conv2D(64, kernel_size=3, activation='relu', input_shape=(28,28,1)))\n",
        "model.add(MaxPooling2D(pool_size=(2, 2)))\n",
        "model.add(Dropout(0.25))\n",
        "\n",
        "model.add(Conv2D(32, kernel_size=3, activation='relu'))\n",
        "model.add(MaxPooling2D(pool_size=(2, 2)))\n",
        "model.add(Dropout(0.25))\n",
        "\n",
        "model.add(Flatten())\n",
        "model.add(Dense(128, activation='relu'))\n",
        "model.add(Dropout(0.5))\n",
        "model.add(Dense(10, activation='softmax')) # 10 for the number of classes\n",
        "\n",
        "# Compile the model\n",
        "model.compile(optimizer='adam', loss='sparse_categorical_crossentropy', metrics=['accuracy'])"
      ],
      "metadata": {
        "id": "imM8QImHoLLF"
      },
      "execution_count": null,
      "outputs": []
    },
    {
      "cell_type": "code",
      "source": [
        "print(np.shape(X_train))\n",
        "print(np.shape(Y_train))\n",
        "print(np.shape(X_val))\n",
        "\n",
        "print(np.shape(Y_val))"
      ],
      "metadata": {
        "id": "K9o3cUpLoNE_"
      },
      "execution_count": null,
      "outputs": []
    },
    {
      "cell_type": "code",
      "source": [
        "history = model.fit(X_train, Y_train, epochs=30, batch_size=28, validation_data=(X_val, Y_val))"
      ],
      "metadata": {
        "id": "EwDkA2y0oOUg"
      },
      "execution_count": null,
      "outputs": []
    },
    {
      "cell_type": "code",
      "source": [
        "y_train_full[0]\n"
      ],
      "metadata": {
        "id": "zck9__YhoR5J"
      },
      "execution_count": null,
      "outputs": []
    },
    {
      "cell_type": "code",
      "source": [
        "X_train_full = X_train_full/255\n",
        "X_test = X_test/255"
      ],
      "metadata": {
        "id": "DKm5KlagoThf"
      },
      "execution_count": null,
      "outputs": []
    },
    {
      "cell_type": "code",
      "source": [
        "X_train_full = X_train_full.reshape(-1, 784)\n",
        "X_test = X_test.reshape(-1, 784)"
      ],
      "metadata": {
        "id": "cdzAoHWqoU28"
      },
      "execution_count": null,
      "outputs": []
    },
    {
      "cell_type": "code",
      "source": [
        "from sklearn.model_selection import train_test_split\n",
        "X_train_tr, X_train_v, y_train_tr, y_train_v = train_test_split(X_train_full, y_train_full, test_size=6000)"
      ],
      "metadata": {
        "id": "fdW5tNWboWS9"
      },
      "execution_count": null,
      "outputs": []
    },
    {
      "cell_type": "code",
      "source": [
        "model = keras.models.Sequential()\n",
        "model.add(keras.layers.Dense(500, activation=\"relu\", input_shape=(784,),\n",
        "                             name=\"First_Hidden_Layer\"))\n",
        "model.add(keras.layers.Dense(500, activation=\"relu\", name=\"Second_Hidden_Layer\"))\n",
        "model.add(keras.layers.Dense(10, activation=\"softmax\", name=\"Output_Layer\"))"
      ],
      "metadata": {
        "id": "4iDAC7WsoarA"
      },
      "execution_count": null,
      "outputs": []
    },
    {
      "cell_type": "code",
      "source": [
        "model.compile(loss=\"sparse_categorical_crossentropy\", optimizer=\"sgd\",\n",
        "              metrics=[\"accuracy\"])"
      ],
      "metadata": {
        "id": "iMauz40RoeZT"
      },
      "execution_count": null,
      "outputs": []
    },
    {
      "cell_type": "code",
      "source": [
        "history = model.fit(X_train_tr, y_train_tr, epochs=30, batch_size=32,\n",
        "                    validation_data=(X_train_v, y_train_v))"
      ],
      "metadata": {
        "id": "Ny3JAdLiof--"
      },
      "execution_count": null,
      "outputs": []
    },
    {
      "cell_type": "code",
      "source": [
        "import pandas as pd\n",
        "pd.DataFrame(history.history).plot(figsize=(10,7))"
      ],
      "metadata": {
        "id": "lAshG5q2ohQr"
      },
      "execution_count": null,
      "outputs": []
    },
    {
      "cell_type": "code",
      "source": [
        "# Here, it is evident that the training and validation accuracies have started to stray off after around epoch 5-6. This difference does not exceed 2% even after 30 epochs, so it can't be said that the model performs significantly better on training data than validation data. Thus, it is not yet overfit.\""
      ],
      "metadata": {
        "id": "WCjxUKFbokKA"
      },
      "execution_count": null,
      "outputs": []
    },
    {
      "cell_type": "code",
      "source": [
        "model.evaluate(X_test, y_test)\n"
      ],
      "metadata": {
        "id": "RDZM2sVPommB"
      },
      "execution_count": null,
      "outputs": []
    },
    {
      "cell_type": "code",
      "source": [
        "# This test accuracy score is almost the same as validation accuracy."
      ],
      "metadata": {
        "id": "lx0DpL_foqZd"
      },
      "execution_count": null,
      "outputs": []
    },
    {
      "cell_type": "code",
      "source": [
        "# Display misclassified images\n",
        "predictions = np.argmax(model.predict(X_test), axis=-1)\n",
        "\n",
        "misclassifiedIndexes = []\n",
        "index = 0\n",
        "for target, predict in zip(y_test, predictions):\n",
        "  if target != predict:\n",
        "    misclassifiedIndexes.append(index)\n",
        "  index += 1\n",
        "\n",
        "misclassifiedIndexes\n",
        "\n",
        "plt.figure(figsize=(20,4))\n",
        "for index in range(5):\n",
        "  plt.subplot(1,5,index+1)\n",
        "  plt.imshow(X_test[misclassifiedIndexes[index]].reshape(28,28), cmap='binary')\n",
        "  plt.axis('off')\n",
        "  plt.title(f'Target: {y_test[misclassifiedIndexes[index]]}    Predicted: {predictions[misclassifiedIndexes[index]]}', fontsize=14)\n",
        "\n",
        "plt.show()"
      ],
      "metadata": {
        "id": "DcCEmR2nonOS"
      },
      "execution_count": null,
      "outputs": []
    },
    {
      "cell_type": "code",
      "source": [
        "# Improving the model"
      ],
      "metadata": {
        "id": "diuQH761os8f"
      },
      "execution_count": null,
      "outputs": []
    },
    {
      "cell_type": "code",
      "source": [
        "#Model with three hidden layers with 300 neurons in the added hidden layer\n",
        "#output layer now has sigmoid activation function\n",
        "\n",
        "model2 = keras.models.Sequential()\n",
        "model2.add(keras.layers.Dense(500, activation=\"relu\", input_shape=(784,),\n",
        "                             name=\"First_Hidden_Layer\"))\n",
        "model2.add(keras.layers.Dense(500, activation=\"relu\", name=\"Second_Hidden_Layer\"))\n",
        "model2.add(keras.layers.Dense(300, activation=\"relu\", name=\"Third_Hidden_Layer\"))\n",
        "model2.add(keras.layers.Dense(10, activation=\"sigmoid\", name=\"Output_Layer\"))"
      ],
      "metadata": {
        "id": "g1yrD3kSo8jR"
      },
      "execution_count": null,
      "outputs": []
    },
    {
      "cell_type": "code",
      "source": [
        "model2.compile(loss=\"sparse_categorical_crossentropy\", optimizer=\"sgd\",\n",
        "              metrics=[\"accuracy\"])"
      ],
      "metadata": {
        "id": "v3ZZ20RcpAg3"
      },
      "execution_count": null,
      "outputs": []
    },
    {
      "cell_type": "code",
      "source": [
        "history2 = model2.fit(X_train_tr, y_train_tr, epochs=30, batch_size=32,\n",
        "                    validation_data=(X_train_v, y_train_v))"
      ],
      "metadata": {
        "id": "JS_JrXsBpBwJ"
      },
      "execution_count": null,
      "outputs": []
    },
    {
      "cell_type": "code",
      "source": [
        "import pandas as pd\n",
        "pd.DataFrame(history2.history).plot(figsize=(10,7))"
      ],
      "metadata": {
        "id": "y1BOahWLpDA1"
      },
      "execution_count": null,
      "outputs": []
    },
    {
      "cell_type": "code",
      "source": [
        "model2.evaluate(X_test, y_test)"
      ],
      "metadata": {
        "id": "2MkeI_QXpEfQ"
      },
      "execution_count": null,
      "outputs": []
    },
    {
      "cell_type": "code",
      "source": [
        "# Display misclassified images\n",
        "predictions = np.argmax(model2.predict(X_test), axis=-1)\n",
        "\n",
        "misclassifiedIndexes = []\n",
        "index = 0\n",
        "for target, predict in zip(y_test, predictions):\n",
        "  if target != predict:\n",
        "    misclassifiedIndexes.append(index)\n",
        "  index += 1\n",
        "\n",
        "misclassifiedIndexes\n",
        "\n",
        "plt.figure(figsize=(20,4))\n",
        "for index in range(5):\n",
        "  plt.subplot(1,5,index+1)\n",
        "  plt.imshow(X_test[misclassifiedIndexes[index]].reshape(28,28), cmap='binary')\n",
        "  plt.axis('off')\n",
        "  plt.title(f'Target: {y_test[misclassifiedIndexes[index]]}    Predicted: {predictions[misclassifiedIndexes[index]]}', fontsize=14)\n",
        "\n",
        "plt.show()"
      ],
      "metadata": {
        "id": "q6e6AXVZpFzL"
      },
      "execution_count": null,
      "outputs": []
    },
    {
      "cell_type": "code",
      "source": [
        "#Model with 4 hidden layers with 400 neurons per layer\n",
        "\n",
        "model3 = keras.models.Sequential()\n",
        "model3.add(keras.layers.Dense(400, activation=\"relu\", input_shape=(784,),\n",
        "                             name=\"First_Hidden_Layer\"))\n",
        "model3.add(keras.layers.Dense(400, activation=\"relu\", name=\"Second_Hidden_Layer\"))\n",
        "model3.add(keras.layers.Dense(400, activation=\"relu\", name=\"Third_Hidden_Layer\"))\n",
        "model3.add(keras.layers.Dense(400, activation=\"relu\", name=\"Fourth_Hidden_Layer\"))\n",
        "model3.add(keras.layers.Dense(10, activation=\"sigmoid\", name=\"Output_Layer\"))"
      ],
      "metadata": {
        "id": "ZysTv-ZKpHoa"
      },
      "execution_count": null,
      "outputs": []
    },
    {
      "cell_type": "code",
      "source": [
        "model3.compile(loss=\"sparse_categorical_crossentropy\", optimizer=\"sgd\",\n",
        "              metrics=[\"accuracy\"])"
      ],
      "metadata": {
        "id": "xC7RPi9EpJcs"
      },
      "execution_count": null,
      "outputs": []
    },
    {
      "cell_type": "code",
      "source": [
        "history3 = model3.fit(X_train_tr, y_train_tr, epochs=30, batch_size=32,\n",
        "                    validation_data=(X_train_v, y_train_v))"
      ],
      "metadata": {
        "id": "0act1ZMSpK4l"
      },
      "execution_count": null,
      "outputs": []
    },
    {
      "cell_type": "code",
      "source": [
        "import pandas as pd\n",
        "pd.DataFrame(history3.history).plot(figsize=(10,7))"
      ],
      "metadata": {
        "id": "m3hgOhbkpMAJ"
      },
      "execution_count": null,
      "outputs": []
    },
    {
      "cell_type": "code",
      "source": [
        "model3.evaluate(X_test, y_test)"
      ],
      "metadata": {
        "id": "dgI0IGR4pNqJ"
      },
      "execution_count": null,
      "outputs": []
    },
    {
      "cell_type": "code",
      "source": [
        "# Display misclassified images\n",
        "predictions = np.argmax(model3.predict(X_test), axis=-1)\n",
        "\n",
        "misclassifiedIndexes = []\n",
        "index = 0\n",
        "for target, predict in zip(y_test, predictions):\n",
        "  if target != predict:\n",
        "    misclassifiedIndexes.append(index)\n",
        "  index += 1\n",
        "\n",
        "misclassifiedIndexes\n",
        "\n",
        "plt.figure(figsize=(20,4))\n",
        "for index in range(5):\n",
        "  plt.subplot(1,5,index+1)\n",
        "  plt.imshow(X_test[misclassifiedIndexes[index]].reshape(28,28), cmap='binary')\n",
        "  plt.axis('off')\n",
        "  plt.title(f'Target: {y_test[misclassifiedIndexes[index]]}    Predicted: {predictions[misclassifiedIndexes[index]]}', fontsize=14)\n",
        "\n",
        "plt.show()"
      ],
      "metadata": {
        "id": "-DU3E-lrpOz7"
      },
      "execution_count": null,
      "outputs": []
    }
  ]
}